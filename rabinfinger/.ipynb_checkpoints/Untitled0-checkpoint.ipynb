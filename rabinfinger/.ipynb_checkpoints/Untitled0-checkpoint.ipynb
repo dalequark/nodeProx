{
 "metadata": {
  "name": "",
  "signature": "sha256:e7e57ca37095765aefb1997bbc49eb67adfc7a567cb89c3ff035b6fafc80a9b6"
 },
 "nbformat": 3,
 "nbformat_minor": 0,
 "worksheets": [
  {
   "cells": [
    {
     "cell_type": "code",
     "collapsed": false,
     "input": [
      "import os\n",
      "\n",
      "\n",
      "file1 = \"./video1\"\n",
      "file2 = \"./video2\"\n",
      "\n",
      "os.execute(\"./a.out \" + file1 + \" > out1\")\n",
      "os.execute(\"./a.out \" + file2 +\" > out2\")\n",
      "\n",
      "\n",
      "\n",
      "def getFingerArray(filek):\n",
      "    i = 0;\n",
      "    fingerArray = {};\n",
      "    lastFinger = None;\n",
      "    content = \"\";\n",
      "    for line in filek:\n",
      "        ar = line.split(',&')\n",
      "        try:\n",
      "            if(ar[0][0:len(\"start:\")] == \"start:\"):\n",
      "                if lastFinger:\n",
      "                    fingerArray[lastFinger] = content;\n",
      "                    content = ar[3]\n",
      "                lastFinger = ar[1]\n",
      "            else:\n",
      "                for data in ar:\n",
      "                    content += data.rstrip('\\n')\n",
      "        except:\n",
      "            for data in ar:\n",
      "                content += data.rstrip('\\n')\n",
      "    return fingerArray\n",
      "                \n",
      "a = getFingerArray(file1);\n",
      "b = getFingerArray(file2);\n",
      "\n",
      "commonFingers = 0;\n",
      "for finger in a:\n",
      "    if finger in b:\n",
      "        print \"a: %s \\n b: %s\\n\\n\" % (a[finger], b[finger])\n",
      "        commonFingers += 1\n",
      "\n",
      "print \"%d common fingers of %d\" % (commonFingers, len(a) + len(b) - commonFingers)\n"
     ],
     "language": "python",
     "metadata": {},
     "outputs": [
      {
       "ename": "SyntaxError",
       "evalue": "invalid syntax (<ipython-input-56-570e7dd87d03>, line 7)",
       "output_type": "pyerr",
       "traceback": [
        "\u001b[0;36m  File \u001b[0;32m\"<ipython-input-56-570e7dd87d03>\"\u001b[0;36m, line \u001b[0;32m7\u001b[0m\n\u001b[0;31m    os.execute(\"./a.out \" + file1 \" > out1\")\u001b[0m\n\u001b[0m                                          ^\u001b[0m\n\u001b[0;31mSyntaxError\u001b[0m\u001b[0;31m:\u001b[0m invalid syntax\n"
       ]
      }
     ],
     "prompt_number": 56
    },
    {
     "cell_type": "code",
     "collapsed": false,
     "input": [],
     "language": "python",
     "metadata": {},
     "outputs": [],
     "prompt_number": 16
    },
    {
     "cell_type": "code",
     "collapsed": false,
     "input": [],
     "language": "python",
     "metadata": {},
     "outputs": [],
     "prompt_number": 3
    },
    {
     "cell_type": "code",
     "collapsed": false,
     "input": [],
     "language": "python",
     "metadata": {},
     "outputs": []
    }
   ],
   "metadata": {}
  }
 ]
}