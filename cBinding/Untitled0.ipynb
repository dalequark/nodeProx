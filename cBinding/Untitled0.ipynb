{
 "metadata": {
  "name": "",
  "signature": "sha256:8a5ef0dc73e953ef21789a15ca0c531d56544e3dfba0d1e242268a4fabbfb5ba"
 },
 "nbformat": 3,
 "nbformat_minor": 0,
 "worksheets": [
  {
   "cells": [
    {
     "cell_type": "code",
     "collapsed": false,
     "input": [
      "def product(x,y):\n",
      "    "
     ],
     "language": "python",
     "metadata": {},
     "outputs": []
    }
   ],
   "metadata": {}
  }
 ]
}